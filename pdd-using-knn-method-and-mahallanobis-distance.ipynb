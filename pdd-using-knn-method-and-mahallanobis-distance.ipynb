{
 "cells": [
  {
   "cell_type": "code",
   "execution_count": 1,
   "id": "b651fe54",
   "metadata": {
    "_cell_guid": "b1076dfc-b9ad-4769-8c92-a6c4dae69d19",
    "_uuid": "8f2839f25d086af736a60e9eeb907d3b93b6e0e5",
    "execution": {
     "iopub.execute_input": "2023-11-19T22:47:53.186985Z",
     "iopub.status.busy": "2023-11-19T22:47:53.186395Z",
     "iopub.status.idle": "2023-11-19T22:47:53.594267Z",
     "shell.execute_reply": "2023-11-19T22:47:53.593463Z"
    },
    "papermill": {
     "duration": 0.415182,
     "end_time": "2023-11-19T22:47:53.597181",
     "exception": false,
     "start_time": "2023-11-19T22:47:53.181999",
     "status": "completed"
    },
    "tags": []
   },
   "outputs": [
    {
     "name": "stdout",
     "output_type": "stream",
     "text": [
      "\n"
     ]
    }
   ],
   "source": [
    "import numpy as np # linear algebra\n",
    "import pandas as pd # data processing, CSV file I/O (e.g. pd.read_csv)\n",
    "import os\n",
    "\n",
    "#Reading dataset and storing it\n",
    "for dirname, _, filenames in os.walk('/kaggle/input'):\n",
    "    for filename in filenames:\n",
    "        print()\n",
    "        dataframe =pd.read_csv(os.path.join(dirname, filename))\n"
   ]
  },
  {
   "cell_type": "code",
   "execution_count": 2,
   "id": "b29aebe7",
   "metadata": {
    "execution": {
     "iopub.execute_input": "2023-11-19T22:47:53.606698Z",
     "iopub.status.busy": "2023-11-19T22:47:53.606261Z",
     "iopub.status.idle": "2023-11-19T22:47:53.629972Z",
     "shell.execute_reply": "2023-11-19T22:47:53.628848Z"
    },
    "papermill": {
     "duration": 0.030713,
     "end_time": "2023-11-19T22:47:53.632691",
     "exception": false,
     "start_time": "2023-11-19T22:47:53.601978",
     "status": "completed"
    },
    "tags": []
   },
   "outputs": [],
   "source": [
    "#Deleting unused columns and creating characterists df \n",
    "dataframe = dataframe.drop(['name'], axis=1)\n",
    "df_car = dataframe.drop(['status'], axis=1)\n",
    "\n",
    "#Separating classes\n",
    "PD = dataframe[dataframe['status'] == 0]\n",
    "PD = PD.drop(['status'], axis=1)\n",
    "C1 = PD.values\n",
    "C1_f, C1_c = C1.shape\n",
    "\n",
    "HC = dataframe[dataframe['status'] == 1]\n",
    "HC = HC.drop(['status'], axis=1)\n",
    "C2 = HC.values\n",
    "C2_f, C2_c = C2.shape\n",
    "\n"
   ]
  },
  {
   "cell_type": "code",
   "execution_count": 3,
   "id": "f5af8ba6",
   "metadata": {
    "execution": {
     "iopub.execute_input": "2023-11-19T22:47:53.639298Z",
     "iopub.status.busy": "2023-11-19T22:47:53.638556Z",
     "iopub.status.idle": "2023-11-19T22:47:53.651386Z",
     "shell.execute_reply": "2023-11-19T22:47:53.650148Z"
    },
    "papermill": {
     "duration": 0.020408,
     "end_time": "2023-11-19T22:47:53.655513",
     "exception": false,
     "start_time": "2023-11-19T22:47:53.635105",
     "status": "completed"
    },
    "tags": []
   },
   "outputs": [],
   "source": [
    "matcar = df_car.values #Converting data as a matrix\n",
    "mat_car = matcar[:, :] # copy matrix information\n",
    "covmatrix = np.cov(mat_car, rowvar=False) #Covariance Matriz\n",
    "mat_cinv = np.linalg.inv(covmatrix)# Inverse Matrix"
   ]
  },
  {
   "cell_type": "code",
   "execution_count": 4,
   "id": "bb8a3d27",
   "metadata": {
    "_cell_guid": "b1076dfc-b9ad-4769-8c92-a6c4dae69d19",
    "_uuid": "8f2839f25d086af736a60e9eeb907d3b93b6e0e5",
    "execution": {
     "iopub.execute_input": "2023-11-19T22:47:53.665436Z",
     "iopub.status.busy": "2023-11-19T22:47:53.664882Z",
     "iopub.status.idle": "2023-11-19T22:48:10.028776Z",
     "shell.execute_reply": "2023-11-19T22:48:10.027651Z"
    },
    "papermill": {
     "duration": 16.372157,
     "end_time": "2023-11-19T22:48:10.031580",
     "exception": false,
     "start_time": "2023-11-19T22:47:53.659423",
     "status": "completed"
    },
    "tags": []
   },
   "outputs": [
    {
     "name": "stdout",
     "output_type": "stream",
     "text": [
      "\n",
      "\n",
      "For 2 characteristics and k= 4\n",
      "PD class Error: 20.83 percentage\n",
      "HC class Error: 36.73 percentage\n",
      "Global Error: 32.82 percentage\n",
      "\n",
      "\n",
      "For 2 characteristics and k= 6\n",
      "PD class Error: 16.67 percentage\n",
      "HC class Error: 35.37 percentage\n",
      "Global Error: 30.77 percentage\n",
      "\n",
      "\n",
      "For 4 characteristics and k= 4\n",
      "PD class Error: 27.08 percentage\n",
      "HC class Error: 31.29 percentage\n",
      "Global Error: 30.26 percentage\n",
      "\n",
      "\n",
      "For 6 characteristics and k= 10\n",
      "PD class Error: 2.08 percentage\n",
      "HC class Error: 38.78 percentage\n",
      "Global Error: 29.74 percentage\n",
      "\n",
      "\n",
      "For 7 characteristics and k= 6\n",
      "PD class Error: 29.17 percentage\n",
      "HC class Error: 29.25 percentage\n",
      "Global Error: 29.23 percentage\n",
      "\n",
      "\n",
      "For 9 characteristics and k= 4\n",
      "PD class Error: 12.50 percentage\n",
      "HC class Error: 34.01 percentage\n",
      "Global Error: 28.72 percentage\n"
     ]
    }
   ],
   "source": [
    "peg=np.inf #Minimum error percentage \n",
    "for car in range(1, 22):\n",
    "    for k in range(3, 15):\n",
    "        matcinv=mat_cinv[:car,:car]\n",
    "        mat_car = matcar[:, :car]\n",
    "        #Initializing errors per classes\n",
    "        e1 = 0; e2 = 0\n",
    "        # 33.33% of samples for training\n",
    "        lim_C1 = int(np.round(C1_f * 0.333))\n",
    "        lim_C2 = int(np.round(C2_f * 0.333))\n",
    "        train_sam1 = C1[:lim_C1 - 1, :car]\n",
    "        train_sam2 = C2[:lim_C2 - 1, :car]\n",
    "        train_sam = np.concatenate((train_sam1, train_sam2), axis=0)\n",
    "        \n",
    "        #All samples\n",
    "        samples = np.concatenate((C1[lim_C1:C1_f, :car], C2[lim_C2:C2_f, :car]), axis=0)\n",
    "\n",
    "        train_r, _ = train_sam.shape\n",
    "        samples_r, _ = samples.shape\n",
    "\n",
    "        for i in range(samples_r):\n",
    "            cont1 = 0\n",
    "            cont2 = 0\n",
    "            X = samples[i, :car]\n",
    "            neig = np.zeros(train_r)\n",
    "\n",
    "            #Computes the distance between them\n",
    "            for j in range(train_r):\n",
    "                z1 = train_sam[j, :]\n",
    "                neig[j] = np.dot(np.dot((X - z1).T, matcinv), (X - z1))\n",
    "\n",
    "            # Find the maximums\n",
    "            for g in range(k):\n",
    "                pos = np.argmin(neig)\n",
    "                if pos < C1_f:\n",
    "                    cont1 += 1\n",
    "                else:\n",
    "                    cont2 += 1\n",
    "                neig[pos] = np.min(neig) + np.max(neig)\n",
    "\n",
    "            cont = [cont1, cont2]\n",
    "            class_ = np.argmax(cont)\n",
    "\n",
    "            if i < (samples_r / 2 + 1):\n",
    "                if cont1 == cont2 or class_ != 0:\n",
    "                    e1 += 1\n",
    "            else:\n",
    "                if cont1 == cont2 or class_ != 1:\n",
    "                    e2 += 1\n",
    "\n",
    "        pe1 = e1 / C1_f * 100\n",
    "        pe2 = e2 / C2_f * 100\n",
    "        pe = (e1 + e2) / (C1_f + C2_f) * 100\n",
    "        if pe<peg:\n",
    "            peg=pe\n",
    "            print(\"\\n\")\n",
    "            print('For {} characteristics and k= {}'.format(int(car)+1, k+1))\n",
    "            print(\"PD class Error: {:.2f} percentage\".format(pe1))\n",
    "            print(\"HC class Error: {:.2f} percentage\".format(pe2))\n",
    "            print(\"Global Error: {:.2f} percentage\".format(pe))\n",
    "        "
   ]
  }
 ],
 "metadata": {
  "kaggle": {
   "accelerator": "none",
   "dataSources": [
    {
     "datasetId": 907215,
     "sourceId": 1538467,
     "sourceType": "datasetVersion"
    }
   ],
   "dockerImageVersionId": 30587,
   "isGpuEnabled": false,
   "isInternetEnabled": false,
   "language": "python",
   "sourceType": "notebook"
  },
  "kernelspec": {
   "display_name": "Python 3",
   "language": "python",
   "name": "python3"
  },
  "language_info": {
   "codemirror_mode": {
    "name": "ipython",
    "version": 3
   },
   "file_extension": ".py",
   "mimetype": "text/x-python",
   "name": "python",
   "nbconvert_exporter": "python",
   "pygments_lexer": "ipython3",
   "version": "3.10.12"
  },
  "papermill": {
   "default_parameters": {},
   "duration": 20.4499,
   "end_time": "2023-11-19T22:48:10.554107",
   "environment_variables": {},
   "exception": null,
   "input_path": "__notebook__.ipynb",
   "output_path": "__notebook__.ipynb",
   "parameters": {},
   "start_time": "2023-11-19T22:47:50.104207",
   "version": "2.4.0"
  }
 },
 "nbformat": 4,
 "nbformat_minor": 5
}
